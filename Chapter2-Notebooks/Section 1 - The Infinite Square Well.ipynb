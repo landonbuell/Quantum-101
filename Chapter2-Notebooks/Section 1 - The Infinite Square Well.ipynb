{
 "cells": [
  {
   "cell_type": "markdown",
   "metadata": {},
   "source": [
    "# Numerically Solving the Infinite Square Well\n",
    "## The Quantum Game - Chapter 2, Section 1"
   ]
  },
  {
   "cell_type": "code",
   "execution_count": 3,
   "metadata": {},
   "outputs": [],
   "source": [
    "\"\"\"\n",
    "The Quantum Game\n",
    "Chapter 2 - Playing the Game: \\\\ Quantum Physics in 1 Dimension\n",
    "Section 1 - The Infinite Square Well\n",
    "2 August 2020\n",
    "\"\"\"\n",
    "\n",
    "        #### IMPORTS ####\n",
    "    \n",
    "import numpy as np\n",
    "import matplotlib.pyplot as plt\n",
    "import pandas as pd"
   ]
  },
  {
   "cell_type": "code",
   "execution_count": 28,
   "metadata": {},
   "outputs": [],
   "source": [
    "def SecondDerivativeMatrix(N,dx):\n",
    "    \"\"\" Produce Matrix Representation of 2nd Derivative Operator \"\"\"\n",
    "    mainDiagonal = np.diag(np.ones(N),0) * -2\n",
    "    upperDiagonal = np.diag(np.ones(N-1),-1)\n",
    "    lowerDiagonal = np.diag(np.ones(N-1),+1)\n",
    "    D2 = mainDiagonal + lowerDiagonal + upperDiagonal \n",
    "    D2 *= 1/(dx**2)\n",
    "    return D2\n",
    "\n",
    "def PotentialFunctionMatrix(N,V):\n",
    "    \"\"\" Produce Matrix Representation Time-Independent Potential Function \"\"\"\n",
    "    potential = np.diag(V,0)\n",
    "    return potential"
   ]
  },
  {
   "cell_type": "code",
   "execution_count": null,
   "metadata": {},
   "outputs": [],
   "source": []
  }
 ],
 "metadata": {
  "kernelspec": {
   "display_name": "Python 3",
   "language": "python",
   "name": "python3"
  },
  "language_info": {
   "codemirror_mode": {
    "name": "ipython",
    "version": 3
   },
   "file_extension": ".py",
   "mimetype": "text/x-python",
   "name": "python",
   "nbconvert_exporter": "python",
   "pygments_lexer": "ipython3",
   "version": "3.7.4"
  }
 },
 "nbformat": 4,
 "nbformat_minor": 2
}
