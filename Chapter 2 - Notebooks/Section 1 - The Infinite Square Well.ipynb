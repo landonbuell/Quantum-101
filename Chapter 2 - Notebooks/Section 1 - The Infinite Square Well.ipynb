{
 "cells": [
  {
   "cell_type": "code",
   "execution_count": 1,
   "metadata": {},
   "outputs": [],
   "source": [
    "\"\"\"\n",
    "Landon Buell\n",
    "The Quantum Game\n",
    "Section 1 - The Infintie Square Well\n",
    "4 August 2020\n",
    "\"\"\"\n",
    "\n",
    "        #### IMPORTS ####\n",
    "    \n",
    "import numpy as np\n",
    "import matplotlib.pyplot as plt\n",
    "import pandas as pd"
   ]
  },
  {
   "cell_type": "code",
   "execution_count": 3,
   "metadata": {},
   "outputs": [],
   "source": [
    "        #### Define Constants ####\n",
    "    \n",
    "hbar,m = 1,1\n",
    "Npts = 4096\n",
    "xLow,xHigh = -10,+10\n",
    "xAxis = np.linspace(xLow,xHigh,Npts)\n",
    "\n",
    "def KineticEnergyMatrix(N,dx):\n",
    "    \"\"\" Represent Quantum Kinetic Energy as an (N x N) Matrix \"\"\"\n",
    "    mainDiagonal = np.diag(np.ones(N),0) * -2\n",
    "    upperDiagonal = np.diag(np.ones(N-1),-1)\n",
    "    lowerDiagonal = np.diag(np.ones(N-1),+1)\n",
    "    D2 = upperDiagonal + mainDiagnonal + lowerDiagonal\n",
    "    return (1/dx**2) * D2\n",
    "\n",
    "def PotentialEnergyMatrix (N,V):\n",
    "    \"\"\" Represent Potential Function Operator as an (N x N) Matrix\"\"\"\n",
    "    Vx = np.diag(V,0)\n",
    "    return Vx\n",
    "\n"
   ]
  },
  {
   "cell_type": "code",
   "execution_count": null,
   "metadata": {},
   "outputs": [],
   "source": [
    "        #### Create Potential Function ####\n",
    "\n",
    "L = 2\n",
    "leftWall = 0\n",
    "rightWall = leftWall + L\n",
    "\n",
    "def InfiniteSquareWellPotential (left,right,xaxis):\n",
    "    \"\"\" Represent Potential Function as 1D Array \"\"\"\n",
    "    potentialFunction = np.array([])\n",
    "    for i in range(len(xaxis)):\n",
    "        if i < left:\n",
    "            potentialFunction = np.append(potentialFunction)\n"
   ]
  }
 ],
 "metadata": {
  "kernelspec": {
   "display_name": "Python 3",
   "language": "python",
   "name": "python3"
  },
  "language_info": {
   "codemirror_mode": {
    "name": "ipython",
    "version": 3
   },
   "file_extension": ".py",
   "mimetype": "text/x-python",
   "name": "python",
   "nbconvert_exporter": "python",
   "pygments_lexer": "ipython3",
   "version": "3.7.4"
  }
 },
 "nbformat": 4,
 "nbformat_minor": 2
}
