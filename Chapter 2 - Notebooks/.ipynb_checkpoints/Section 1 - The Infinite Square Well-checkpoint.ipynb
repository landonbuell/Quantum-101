{
 "cells": [
  {
   "cell_type": "code",
   "execution_count": 8,
   "metadata": {},
   "outputs": [],
   "source": [
    "\"\"\"\n",
    "Landon Buell\n",
    "The Quantum Game\n",
    "Section 1 - The Infintie Square Well\n",
    "4 August 2020\n",
    "\"\"\"\n",
    "\n",
    "        #### IMPORTS ####\n",
    "    \n",
    "import numpy as np\n",
    "import matplotlib.pyplot as plt\n",
    "import pandas as pd"
   ]
  },
  {
   "cell_type": "code",
   "execution_count": 9,
   "metadata": {},
   "outputs": [],
   "source": [
    "        #### Define Constants ####\n",
    "    \n",
    "hbar,m = 1,1\n",
    "Npts = 4096\n",
    "xLow,xHigh = -10,+10\n",
    "xAxis = np.linspace(xLow,xHigh,Npts)\n",
    "\n",
    "def KineticEnergyMatrix(N,dx,hbar,m):\n",
    "    \"\"\" Represent Quantum Kinetic Energy as an (N x N) Matrix \"\"\"\n",
    "    mainDiagonal = np.diag(np.ones(N),0) * -2\n",
    "    upperDiagonal = np.diag(np.ones(N-1),-1)\n",
    "    lowerDiagonal = np.diag(np.ones(N-1),+1)\n",
    "    D2 = (1/dx**2) * (upperDiagonal + mainDiagnonal + lowerDiagonal)\n",
    "    Tx = -((hbar**2)/(2*m))*D2\n",
    "\n",
    "def PotentialEnergyMatrix (N,V):\n",
    "    \"\"\" Represent Potential Function Operator as an (N x N) Matrix\"\"\"\n",
    "    Vx = np.diag(V,0)\n",
    "    return Vx\n",
    "\n"
   ]
  },
  {
   "cell_type": "code",
   "execution_count": 11,
   "metadata": {},
   "outputs": [
    {
     "ename": "IndentationError",
     "evalue": "expected an indented block (<ipython-input-11-36cefed7eb83>, line 11)",
     "output_type": "error",
     "traceback": [
      "\u001b[1;36m  File \u001b[1;32m\"<ipython-input-11-36cefed7eb83>\"\u001b[1;36m, line \u001b[1;32m11\u001b[0m\n\u001b[1;33m    if xaxis[i] < left:\u001b[0m\n\u001b[1;37m                       ^\u001b[0m\n\u001b[1;31mIndentationError\u001b[0m\u001b[1;31m:\u001b[0m expected an indented block\n"
     ]
    }
   ],
   "source": [
    "        #### Create Potential Function ####\n",
    "\n",
    "L = 2\n",
    "leftWall = 0\n",
    "rightWall = leftWall + L\n",
    "\n",
    "def InfiniteSquareWellPotential (left,right,xaxis):\n",
    "    \"\"\" Represent Potential Function as 1D Array \"\"\"\n",
    "    potentialFunction = np.array([])\n",
    "    for i in xaxis:\n",
    "        \n",
    "    return potentialFunction\n"
   ]
  },
  {
   "cell_type": "code",
   "execution_count": null,
   "metadata": {},
   "outputs": [],
   "source": []
  }
 ],
 "metadata": {
  "kernelspec": {
   "display_name": "Python 3",
   "language": "python",
   "name": "python3"
  },
  "language_info": {
   "codemirror_mode": {
    "name": "ipython",
    "version": 3
   },
   "file_extension": ".py",
   "mimetype": "text/x-python",
   "name": "python",
   "nbconvert_exporter": "python",
   "pygments_lexer": "ipython3",
   "version": "3.7.4"
  }
 },
 "nbformat": 4,
 "nbformat_minor": 2
}
